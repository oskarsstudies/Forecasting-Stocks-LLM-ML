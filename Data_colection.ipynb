{
 "cells": [
  {
   "cell_type": "markdown",
   "id": "b595057c",
   "metadata": {},
   "source": [
    "### Yahoo finance data collection"
   ]
  },
  {
   "cell_type": "code",
   "execution_count": 2,
   "id": "428dd7a3-9bb4-42cb-aa92-a7311d42dafd",
   "metadata": {
    "tags": []
   },
   "outputs": [
    {
     "name": "stdout",
     "output_type": "stream",
     "text": [
      "Saved data for MSFT to Data\\MSFT_historical_data.csv\n",
      "Saved data for AAPL to Data\\AAPL_historical_data.csv\n",
      "Saved data for NVDA to Data\\NVDA_historical_data.csv\n",
      "Saved data for AMZN to Data\\AMZN_historical_data.csv\n",
      "Saved data for GOOG to Data\\GOOG_historical_data.csv\n",
      "Saved data for META to Data\\META_historical_data.csv\n",
      "Saved data for LLY to Data\\LLY_historical_data.csv\n",
      "Saved data for TSM to Data\\TSM_historical_data.csv\n",
      "Saved data for AVGO to Data\\AVGO_historical_data.csv\n",
      "Saved data for V to Data\\V_historical_data.csv\n",
      "Saved data for NVO to Data\\NVO_historical_data.csv\n",
      "Saved data for TSLA to Data\\TSLA_historical_data.csv\n",
      "Saved data for WMT to Data\\WMT_historical_data.csv\n",
      "Saved data for XOM to Data\\XOM_historical_data.csv\n",
      "Saved data for MA to Data\\MA_historical_data.csv\n",
      "Saved data for UNH to Data\\UNH_historical_data.csv\n",
      "Saved data for ASML to Data\\ASML_historical_data.csv\n",
      "Saved data for JNJ to Data\\JNJ_historical_data.csv\n",
      "Saved data for PG to Data\\PG_historical_data.csv\n"
     ]
    }
   ],
   "source": [
    "import yfinance as yf\n",
    "import pandas as pd\n",
    "import os\n",
    "\n",
    "COMPANIES = ['MSFT', 'AAPL', 'NVDA', 'AMZN', 'GOOG', 'META', 'LLY', 'TSM', 'AVGO', 'V', 'NVO', 'TSLA', 'WMT', 'XOM', 'MA', 'UNH', 'ASML', 'JNJ', 'PG']\n",
    "\n",
    "# Define 1 month of data due to limitations\n",
    "start_date = \"2023-05-01\"\n",
    "end_date = \"2024-05-10\"\n",
    "\n",
    "data_folder = 'Data'  # Folder to store CSV files\n",
    "\n",
    "# Ensure the directory exists or create it\n",
    "if not os.path.exists(data_folder):\n",
    "    os.makedirs(data_folder)\n",
    "\n",
    "for ticker_symbol in COMPANIES:\n",
    "    try:\n",
    "        ticker = yf.Ticker(ticker_symbol)\n",
    "        hist_data = ticker.history(start=start_date, end=end_date)\n",
    "        csv_filename = os.path.join(data_folder, f\"{ticker_symbol}_historical_data.csv\")\n",
    "        hist_data.to_csv(csv_filename)\n",
    "        print(f\"Saved data for {ticker_symbol} to {csv_filename}\")\n",
    "    except Exception as e:\n",
    "        print(f\"Failed to get or save data for {ticker_symbol}: {str(e)}\")\n"
   ]
  },
  {
   "cell_type": "markdown",
   "id": "2fdb5e13",
   "metadata": {},
   "source": [
    "### FInance news data collection"
   ]
  },
  {
   "cell_type": "code",
   "execution_count": 1,
   "id": "c2939d83-d10f-497f-b3d5-743aae6f0fba",
   "metadata": {},
   "outputs": [],
   "source": [
    "import json\n",
    "import os\n",
    "import requests\n",
    "from datetime import datetime, timedelta\n",
    "\n",
    "API_KEY = ''\n",
    "COMPANIES = ['MSFT', 'AAPL', 'NVDA', 'AMZN', 'GOOG', 'META', 'LLY', 'TSM', 'AVGO', 'V', 'NVO', 'TSLA', 'WMT', 'XOM', 'MA', 'UNH', 'ASML', 'JNJ', 'PG']\n",
    "\n",
    "# Define the start and end dates\n",
    "start_date = datetime(2023, 8, 31)\n",
    "end_date = datetime(2023, 9, 30)\n",
    "\n",
    "# Create the \"Data\" folder if it doesn't exist\n",
    "if not os.path.exists('Data'):\n",
    "    os.makedirs('Data')\n",
    "\n",
    "for STOCK_SYMBOL in COMPANIES:\n",
    "    # Define the API endpoint\n",
    "    API_ENDPOINT = 'https://www.alphavantage.co/query'\n",
    "    \n",
    "    # Set the parameters for the request\n",
    "    params = {\n",
    "        'function': 'NEWS_SENTIMENT',\n",
    "        'tickers': STOCK_SYMBOL,\n",
    "        'time_from': start_date.strftime('%Y%m%dT%H%M'),\n",
    "        'time_to': end_date.strftime('%Y%m%dT%H%M'),\n",
    "        'limit': 1000,\n",
    "        'apikey': API_KEY\n",
    "    }\n",
    "\n",
    "    # Send the request to the Alpha Vantage API\n",
    "    response = requests.get(API_ENDPOINT, params=params)\n",
    "    \n",
    "    # Check if the request was successful\n",
    "    if response.status_code == 200:\n",
    "        # Parse the response JSON\n",
    "        news_data = response.json()\n",
    "\n",
    "        # Define the JSON file name with the date included\n",
    "        file_date = start_date.strftime('%Y%m%d') + '_' + end_date.strftime('%Y%m%d')\n",
    "        json_file_name = f\"Data/{STOCK_SYMBOL}_news_data_{file_date}.json\"\n",
    "\n",
    "        # Save the data to a JSON file\n",
    "        with open(json_file_name, 'w', encoding='utf-8') as json_file:\n",
    "            json.dump(news_data, json_file, ensure_ascii=False, indent=4)\n",
    "    else:\n",
    "        print(f\"Failed to retrieve news for {STOCK_SYMBOL}: \", response.status_code)\n"
   ]
  }
 ],
 "metadata": {
  "kernelspec": {
   "display_name": "Python 3 (ipykernel)",
   "language": "python",
   "name": "python3"
  },
  "language_info": {
   "codemirror_mode": {
    "name": "ipython",
    "version": 3
   },
   "file_extension": ".py",
   "mimetype": "text/x-python",
   "name": "python",
   "nbconvert_exporter": "python",
   "pygments_lexer": "ipython3",
   "version": "3.11.1"
  }
 },
 "nbformat": 4,
 "nbformat_minor": 5
}
